{
 "cells": [
  {
   "cell_type": "code",
   "execution_count": 1,
   "metadata": {
    "collapsed": true
   },
   "outputs": [],
   "source": [
    "#숙제 2017, 10, 24 1. 이 문제는 교재의 3장 Exercise 중 9번 문제로 “auto.csv” (http://www-bcf.usc.edu/~gareth/ISL/data.html) \n",
    "#를 이용한 multiple linear regression에 관한 내용입니다. \n",
    "#(a) ~ (f) 문제 중 (d)번 문제를 제외하고 다 수행하십시오. \n",
    "#2. 이 문제는 교재의 4장 Exercise 중 13번 문제로 “Boston” 데이터를 이용한 Classification에 관한 것입니다. \n",
    "#내용은 어떤 지역의 범죄율 (crim) 이 그 중간값보다 높을까 또는 낮을까를 나타내는 예측모델을 만드는 것입니다. \n",
    "#적절한 변수들을 선택해 Logistic Regression과 KNN 모델을 만들어 데이터에 적용하고, 그 결과를 설명하십시오. \n",
    "#모델 설명 및 평가는 오늘 배울 내용인 train/test set 방법 및 K-fold cross validation을 사용해야 합니다.\n",
    "\n",
    "#Using the Boston data set, fit classification models in order to predict whether a given suburb \n",
    "#has a crime rate above or below the median. \n",
    "#Explore logistic regression, LDA, and KNN models using various sub- sets of the predictors. \n",
    "#Describe your findings."
   ]
  },
  {
   "cell_type": "code",
   "execution_count": 2,
   "metadata": {
    "collapsed": true
   },
   "outputs": [],
   "source": [
    "#homework 2, chapter 4 exercise13\n",
    "# 패키지 imports\n",
    "import pandas as pd\n",
    "import numpy as np\n",
    "import matplotlib.pyplot as plt\n",
    "import seaborn\n",
    "import statsmodels.formula.api as smf\n",
    "import scipy\n",
    "\n",
    "%matplotlib inline\n",
    "\n",
    "# import scikit-learn LogisticRegression estimator\n",
    "from sklearn.linear_model import LogisticRegression as logisticregression"
   ]
  },
  {
   "cell_type": "code",
   "execution_count": 3,
   "metadata": {},
   "outputs": [
    {
     "name": "stdout",
     "output_type": "stream",
     "text": [
      "<class 'pandas.core.frame.DataFrame'>\n",
      "RangeIndex: 506 entries, 0 to 505\n",
      "Data columns (total 14 columns):\n",
      "crim       506 non-null float64\n",
      "zn         506 non-null float64\n",
      "indus      506 non-null float64\n",
      "chas       506 non-null int64\n",
      "nox        506 non-null float64\n",
      "rm         506 non-null float64\n",
      "age        506 non-null float64\n",
      "dis        506 non-null float64\n",
      "rad        506 non-null int64\n",
      "tax        506 non-null int64\n",
      "ptratio    506 non-null float64\n",
      "black      506 non-null float64\n",
      "lstat      506 non-null float64\n",
      "medv       506 non-null float64\n",
      "dtypes: float64(11), int64(3)\n",
      "memory usage: 55.4 KB\n"
     ]
    }
   ],
   "source": [
    "boston =pd.read_csv('../Boston.csv')\n",
    "boston.info()"
   ]
  },
  {
   "cell_type": "code",
   "execution_count": 4,
   "metadata": {
    "collapsed": true
   },
   "outputs": [],
   "source": [
    "#CRIM per capita crime rate by town\n",
    "#ZN proportion of residential land zoned for lots over 25,000 sq.ft.\n",
    "#INDUS proportion of non-retail business acres per town\n",
    "#CHAS Charles River dummy variable (= 1 if tract bounds river; 0 otherwise)\n",
    "#NOX nitric oxides concentration (parts per 10 million)\n",
    "#RM average number of rooms per dwelling\n",
    "#AGE proportion of owner-occupied units built prior to 1940\n",
    "#DIS weighted distances to five Boston employment centres\n",
    "#RAD index of accessibility to radial highways\n",
    "#TAX full-value property-tax rate per $10,000\n",
    "#PTRATIO pupil-teacher ratio by town\n",
    "#B 1000(Bk - 0.63)^2 where Bk is the proportion of blacks by town\n",
    "#LSTAT % lower status of the population"
   ]
  },
  {
   "cell_type": "markdown",
   "metadata": {},
   "source": [
    "#### 새로운 컬럼을 만들고 crim이 median보다 높으면 1, 낮으면 0"
   ]
  },
  {
   "cell_type": "code",
   "execution_count": 5,
   "metadata": {
    "collapsed": true
   },
   "outputs": [],
   "source": [
    "boston_crime_median = np.median(boston['crim'])"
   ]
  },
  {
   "cell_type": "code",
   "execution_count": 6,
   "metadata": {
    "collapsed": true
   },
   "outputs": [],
   "source": [
    "boston['crime_above_median'] = np.where(boston['crim'] > boston_crime_median,1,0)"
   ]
  },
  {
   "cell_type": "code",
   "execution_count": 7,
   "metadata": {},
   "outputs": [
    {
     "data": {
      "text/html": [
       "<div>\n",
       "<style>\n",
       "    .dataframe thead tr:only-child th {\n",
       "        text-align: right;\n",
       "    }\n",
       "\n",
       "    .dataframe thead th {\n",
       "        text-align: left;\n",
       "    }\n",
       "\n",
       "    .dataframe tbody tr th {\n",
       "        vertical-align: top;\n",
       "    }\n",
       "</style>\n",
       "<table border=\"1\" class=\"dataframe\">\n",
       "  <thead>\n",
       "    <tr style=\"text-align: right;\">\n",
       "      <th></th>\n",
       "      <th>crim</th>\n",
       "      <th>zn</th>\n",
       "      <th>indus</th>\n",
       "      <th>chas</th>\n",
       "      <th>nox</th>\n",
       "      <th>rm</th>\n",
       "      <th>age</th>\n",
       "      <th>dis</th>\n",
       "      <th>rad</th>\n",
       "      <th>tax</th>\n",
       "      <th>ptratio</th>\n",
       "      <th>black</th>\n",
       "      <th>lstat</th>\n",
       "      <th>medv</th>\n",
       "      <th>crime_above_median</th>\n",
       "    </tr>\n",
       "  </thead>\n",
       "  <tbody>\n",
       "    <tr>\n",
       "      <th>0</th>\n",
       "      <td>0.00632</td>\n",
       "      <td>18.0</td>\n",
       "      <td>2.31</td>\n",
       "      <td>0</td>\n",
       "      <td>0.538</td>\n",
       "      <td>6.575</td>\n",
       "      <td>65.2</td>\n",
       "      <td>4.0900</td>\n",
       "      <td>1</td>\n",
       "      <td>296</td>\n",
       "      <td>15.3</td>\n",
       "      <td>396.90</td>\n",
       "      <td>4.98</td>\n",
       "      <td>24.0</td>\n",
       "      <td>0</td>\n",
       "    </tr>\n",
       "    <tr>\n",
       "      <th>1</th>\n",
       "      <td>0.02731</td>\n",
       "      <td>0.0</td>\n",
       "      <td>7.07</td>\n",
       "      <td>0</td>\n",
       "      <td>0.469</td>\n",
       "      <td>6.421</td>\n",
       "      <td>78.9</td>\n",
       "      <td>4.9671</td>\n",
       "      <td>2</td>\n",
       "      <td>242</td>\n",
       "      <td>17.8</td>\n",
       "      <td>396.90</td>\n",
       "      <td>9.14</td>\n",
       "      <td>21.6</td>\n",
       "      <td>0</td>\n",
       "    </tr>\n",
       "    <tr>\n",
       "      <th>2</th>\n",
       "      <td>0.02729</td>\n",
       "      <td>0.0</td>\n",
       "      <td>7.07</td>\n",
       "      <td>0</td>\n",
       "      <td>0.469</td>\n",
       "      <td>7.185</td>\n",
       "      <td>61.1</td>\n",
       "      <td>4.9671</td>\n",
       "      <td>2</td>\n",
       "      <td>242</td>\n",
       "      <td>17.8</td>\n",
       "      <td>392.83</td>\n",
       "      <td>4.03</td>\n",
       "      <td>34.7</td>\n",
       "      <td>0</td>\n",
       "    </tr>\n",
       "    <tr>\n",
       "      <th>3</th>\n",
       "      <td>0.03237</td>\n",
       "      <td>0.0</td>\n",
       "      <td>2.18</td>\n",
       "      <td>0</td>\n",
       "      <td>0.458</td>\n",
       "      <td>6.998</td>\n",
       "      <td>45.8</td>\n",
       "      <td>6.0622</td>\n",
       "      <td>3</td>\n",
       "      <td>222</td>\n",
       "      <td>18.7</td>\n",
       "      <td>394.63</td>\n",
       "      <td>2.94</td>\n",
       "      <td>33.4</td>\n",
       "      <td>0</td>\n",
       "    </tr>\n",
       "    <tr>\n",
       "      <th>4</th>\n",
       "      <td>0.06905</td>\n",
       "      <td>0.0</td>\n",
       "      <td>2.18</td>\n",
       "      <td>0</td>\n",
       "      <td>0.458</td>\n",
       "      <td>7.147</td>\n",
       "      <td>54.2</td>\n",
       "      <td>6.0622</td>\n",
       "      <td>3</td>\n",
       "      <td>222</td>\n",
       "      <td>18.7</td>\n",
       "      <td>396.90</td>\n",
       "      <td>5.33</td>\n",
       "      <td>36.2</td>\n",
       "      <td>0</td>\n",
       "    </tr>\n",
       "    <tr>\n",
       "      <th>5</th>\n",
       "      <td>0.02985</td>\n",
       "      <td>0.0</td>\n",
       "      <td>2.18</td>\n",
       "      <td>0</td>\n",
       "      <td>0.458</td>\n",
       "      <td>6.430</td>\n",
       "      <td>58.7</td>\n",
       "      <td>6.0622</td>\n",
       "      <td>3</td>\n",
       "      <td>222</td>\n",
       "      <td>18.7</td>\n",
       "      <td>394.12</td>\n",
       "      <td>5.21</td>\n",
       "      <td>28.7</td>\n",
       "      <td>0</td>\n",
       "    </tr>\n",
       "    <tr>\n",
       "      <th>6</th>\n",
       "      <td>0.08829</td>\n",
       "      <td>12.5</td>\n",
       "      <td>7.87</td>\n",
       "      <td>0</td>\n",
       "      <td>0.524</td>\n",
       "      <td>6.012</td>\n",
       "      <td>66.6</td>\n",
       "      <td>5.5605</td>\n",
       "      <td>5</td>\n",
       "      <td>311</td>\n",
       "      <td>15.2</td>\n",
       "      <td>395.60</td>\n",
       "      <td>12.43</td>\n",
       "      <td>22.9</td>\n",
       "      <td>0</td>\n",
       "    </tr>\n",
       "    <tr>\n",
       "      <th>7</th>\n",
       "      <td>0.14455</td>\n",
       "      <td>12.5</td>\n",
       "      <td>7.87</td>\n",
       "      <td>0</td>\n",
       "      <td>0.524</td>\n",
       "      <td>6.172</td>\n",
       "      <td>96.1</td>\n",
       "      <td>5.9505</td>\n",
       "      <td>5</td>\n",
       "      <td>311</td>\n",
       "      <td>15.2</td>\n",
       "      <td>396.90</td>\n",
       "      <td>19.15</td>\n",
       "      <td>27.1</td>\n",
       "      <td>0</td>\n",
       "    </tr>\n",
       "    <tr>\n",
       "      <th>8</th>\n",
       "      <td>0.21124</td>\n",
       "      <td>12.5</td>\n",
       "      <td>7.87</td>\n",
       "      <td>0</td>\n",
       "      <td>0.524</td>\n",
       "      <td>5.631</td>\n",
       "      <td>100.0</td>\n",
       "      <td>6.0821</td>\n",
       "      <td>5</td>\n",
       "      <td>311</td>\n",
       "      <td>15.2</td>\n",
       "      <td>386.63</td>\n",
       "      <td>29.93</td>\n",
       "      <td>16.5</td>\n",
       "      <td>0</td>\n",
       "    </tr>\n",
       "    <tr>\n",
       "      <th>9</th>\n",
       "      <td>0.17004</td>\n",
       "      <td>12.5</td>\n",
       "      <td>7.87</td>\n",
       "      <td>0</td>\n",
       "      <td>0.524</td>\n",
       "      <td>6.004</td>\n",
       "      <td>85.9</td>\n",
       "      <td>6.5921</td>\n",
       "      <td>5</td>\n",
       "      <td>311</td>\n",
       "      <td>15.2</td>\n",
       "      <td>386.71</td>\n",
       "      <td>17.10</td>\n",
       "      <td>18.9</td>\n",
       "      <td>0</td>\n",
       "    </tr>\n",
       "  </tbody>\n",
       "</table>\n",
       "</div>"
      ],
      "text/plain": [
       "      crim    zn  indus  chas    nox     rm    age     dis  rad  tax  ptratio  \\\n",
       "0  0.00632  18.0   2.31     0  0.538  6.575   65.2  4.0900    1  296     15.3   \n",
       "1  0.02731   0.0   7.07     0  0.469  6.421   78.9  4.9671    2  242     17.8   \n",
       "2  0.02729   0.0   7.07     0  0.469  7.185   61.1  4.9671    2  242     17.8   \n",
       "3  0.03237   0.0   2.18     0  0.458  6.998   45.8  6.0622    3  222     18.7   \n",
       "4  0.06905   0.0   2.18     0  0.458  7.147   54.2  6.0622    3  222     18.7   \n",
       "5  0.02985   0.0   2.18     0  0.458  6.430   58.7  6.0622    3  222     18.7   \n",
       "6  0.08829  12.5   7.87     0  0.524  6.012   66.6  5.5605    5  311     15.2   \n",
       "7  0.14455  12.5   7.87     0  0.524  6.172   96.1  5.9505    5  311     15.2   \n",
       "8  0.21124  12.5   7.87     0  0.524  5.631  100.0  6.0821    5  311     15.2   \n",
       "9  0.17004  12.5   7.87     0  0.524  6.004   85.9  6.5921    5  311     15.2   \n",
       "\n",
       "    black  lstat  medv  crime_above_median  \n",
       "0  396.90   4.98  24.0                   0  \n",
       "1  396.90   9.14  21.6                   0  \n",
       "2  392.83   4.03  34.7                   0  \n",
       "3  394.63   2.94  33.4                   0  \n",
       "4  396.90   5.33  36.2                   0  \n",
       "5  394.12   5.21  28.7                   0  \n",
       "6  395.60  12.43  22.9                   0  \n",
       "7  396.90  19.15  27.1                   0  \n",
       "8  386.63  29.93  16.5                   0  \n",
       "9  386.71  17.10  18.9                   0  "
      ]
     },
     "execution_count": 7,
     "metadata": {},
     "output_type": "execute_result"
    }
   ],
   "source": [
    "boston.head(10)"
   ]
  },
  {
   "cell_type": "code",
   "execution_count": 8,
   "metadata": {
    "scrolled": true
   },
   "outputs": [
    {
     "data": {
      "text/plain": [
       "crim                  504\n",
       "zn                     26\n",
       "indus                  76\n",
       "chas                    2\n",
       "nox                    81\n",
       "rm                    446\n",
       "age                   356\n",
       "dis                   412\n",
       "rad                     9\n",
       "tax                    66\n",
       "ptratio                46\n",
       "black                 357\n",
       "lstat                 455\n",
       "medv                  229\n",
       "crime_above_median      2\n",
       "dtype: int64"
      ]
     },
     "execution_count": 8,
     "metadata": {},
     "output_type": "execute_result"
    }
   ],
   "source": [
    "boston.nunique()"
   ]
  },
  {
   "cell_type": "code",
   "execution_count": 9,
   "metadata": {
    "scrolled": true
   },
   "outputs": [
    {
     "data": {
      "text/html": [
       "<div>\n",
       "<style>\n",
       "    .dataframe thead tr:only-child th {\n",
       "        text-align: right;\n",
       "    }\n",
       "\n",
       "    .dataframe thead th {\n",
       "        text-align: left;\n",
       "    }\n",
       "\n",
       "    .dataframe tbody tr th {\n",
       "        vertical-align: top;\n",
       "    }\n",
       "</style>\n",
       "<table border=\"1\" class=\"dataframe\">\n",
       "  <thead>\n",
       "    <tr style=\"text-align: right;\">\n",
       "      <th></th>\n",
       "      <th>crim</th>\n",
       "      <th>zn</th>\n",
       "      <th>indus</th>\n",
       "      <th>chas</th>\n",
       "      <th>nox</th>\n",
       "      <th>rm</th>\n",
       "      <th>age</th>\n",
       "      <th>dis</th>\n",
       "      <th>rad</th>\n",
       "      <th>tax</th>\n",
       "      <th>ptratio</th>\n",
       "      <th>black</th>\n",
       "      <th>lstat</th>\n",
       "      <th>medv</th>\n",
       "      <th>crime_above_median</th>\n",
       "    </tr>\n",
       "  </thead>\n",
       "  <tbody>\n",
       "    <tr>\n",
       "      <th>count</th>\n",
       "      <td>506.000000</td>\n",
       "      <td>506.000000</td>\n",
       "      <td>506.000000</td>\n",
       "      <td>506.000000</td>\n",
       "      <td>506.000000</td>\n",
       "      <td>506.000000</td>\n",
       "      <td>506.000000</td>\n",
       "      <td>506.000000</td>\n",
       "      <td>506.000000</td>\n",
       "      <td>506.000000</td>\n",
       "      <td>506.000000</td>\n",
       "      <td>506.000000</td>\n",
       "      <td>506.000000</td>\n",
       "      <td>506.000000</td>\n",
       "      <td>506.000000</td>\n",
       "    </tr>\n",
       "    <tr>\n",
       "      <th>mean</th>\n",
       "      <td>3.613524</td>\n",
       "      <td>11.363636</td>\n",
       "      <td>11.136779</td>\n",
       "      <td>0.069170</td>\n",
       "      <td>0.554695</td>\n",
       "      <td>6.284634</td>\n",
       "      <td>68.574901</td>\n",
       "      <td>3.795043</td>\n",
       "      <td>9.549407</td>\n",
       "      <td>408.237154</td>\n",
       "      <td>18.455534</td>\n",
       "      <td>356.674032</td>\n",
       "      <td>12.653063</td>\n",
       "      <td>22.532806</td>\n",
       "      <td>0.500000</td>\n",
       "    </tr>\n",
       "    <tr>\n",
       "      <th>std</th>\n",
       "      <td>8.601545</td>\n",
       "      <td>23.322453</td>\n",
       "      <td>6.860353</td>\n",
       "      <td>0.253994</td>\n",
       "      <td>0.115878</td>\n",
       "      <td>0.702617</td>\n",
       "      <td>28.148861</td>\n",
       "      <td>2.105710</td>\n",
       "      <td>8.707259</td>\n",
       "      <td>168.537116</td>\n",
       "      <td>2.164946</td>\n",
       "      <td>91.294864</td>\n",
       "      <td>7.141062</td>\n",
       "      <td>9.197104</td>\n",
       "      <td>0.500495</td>\n",
       "    </tr>\n",
       "    <tr>\n",
       "      <th>min</th>\n",
       "      <td>0.006320</td>\n",
       "      <td>0.000000</td>\n",
       "      <td>0.460000</td>\n",
       "      <td>0.000000</td>\n",
       "      <td>0.385000</td>\n",
       "      <td>3.561000</td>\n",
       "      <td>2.900000</td>\n",
       "      <td>1.129600</td>\n",
       "      <td>1.000000</td>\n",
       "      <td>187.000000</td>\n",
       "      <td>12.600000</td>\n",
       "      <td>0.320000</td>\n",
       "      <td>1.730000</td>\n",
       "      <td>5.000000</td>\n",
       "      <td>0.000000</td>\n",
       "    </tr>\n",
       "    <tr>\n",
       "      <th>25%</th>\n",
       "      <td>0.082045</td>\n",
       "      <td>0.000000</td>\n",
       "      <td>5.190000</td>\n",
       "      <td>0.000000</td>\n",
       "      <td>0.449000</td>\n",
       "      <td>5.885500</td>\n",
       "      <td>45.025000</td>\n",
       "      <td>2.100175</td>\n",
       "      <td>4.000000</td>\n",
       "      <td>279.000000</td>\n",
       "      <td>17.400000</td>\n",
       "      <td>375.377500</td>\n",
       "      <td>6.950000</td>\n",
       "      <td>17.025000</td>\n",
       "      <td>0.000000</td>\n",
       "    </tr>\n",
       "    <tr>\n",
       "      <th>50%</th>\n",
       "      <td>0.256510</td>\n",
       "      <td>0.000000</td>\n",
       "      <td>9.690000</td>\n",
       "      <td>0.000000</td>\n",
       "      <td>0.538000</td>\n",
       "      <td>6.208500</td>\n",
       "      <td>77.500000</td>\n",
       "      <td>3.207450</td>\n",
       "      <td>5.000000</td>\n",
       "      <td>330.000000</td>\n",
       "      <td>19.050000</td>\n",
       "      <td>391.440000</td>\n",
       "      <td>11.360000</td>\n",
       "      <td>21.200000</td>\n",
       "      <td>0.500000</td>\n",
       "    </tr>\n",
       "    <tr>\n",
       "      <th>75%</th>\n",
       "      <td>3.677082</td>\n",
       "      <td>12.500000</td>\n",
       "      <td>18.100000</td>\n",
       "      <td>0.000000</td>\n",
       "      <td>0.624000</td>\n",
       "      <td>6.623500</td>\n",
       "      <td>94.075000</td>\n",
       "      <td>5.188425</td>\n",
       "      <td>24.000000</td>\n",
       "      <td>666.000000</td>\n",
       "      <td>20.200000</td>\n",
       "      <td>396.225000</td>\n",
       "      <td>16.955000</td>\n",
       "      <td>25.000000</td>\n",
       "      <td>1.000000</td>\n",
       "    </tr>\n",
       "    <tr>\n",
       "      <th>max</th>\n",
       "      <td>88.976200</td>\n",
       "      <td>100.000000</td>\n",
       "      <td>27.740000</td>\n",
       "      <td>1.000000</td>\n",
       "      <td>0.871000</td>\n",
       "      <td>8.780000</td>\n",
       "      <td>100.000000</td>\n",
       "      <td>12.126500</td>\n",
       "      <td>24.000000</td>\n",
       "      <td>711.000000</td>\n",
       "      <td>22.000000</td>\n",
       "      <td>396.900000</td>\n",
       "      <td>37.970000</td>\n",
       "      <td>50.000000</td>\n",
       "      <td>1.000000</td>\n",
       "    </tr>\n",
       "  </tbody>\n",
       "</table>\n",
       "</div>"
      ],
      "text/plain": [
       "             crim          zn       indus        chas         nox          rm  \\\n",
       "count  506.000000  506.000000  506.000000  506.000000  506.000000  506.000000   \n",
       "mean     3.613524   11.363636   11.136779    0.069170    0.554695    6.284634   \n",
       "std      8.601545   23.322453    6.860353    0.253994    0.115878    0.702617   \n",
       "min      0.006320    0.000000    0.460000    0.000000    0.385000    3.561000   \n",
       "25%      0.082045    0.000000    5.190000    0.000000    0.449000    5.885500   \n",
       "50%      0.256510    0.000000    9.690000    0.000000    0.538000    6.208500   \n",
       "75%      3.677082   12.500000   18.100000    0.000000    0.624000    6.623500   \n",
       "max     88.976200  100.000000   27.740000    1.000000    0.871000    8.780000   \n",
       "\n",
       "              age         dis         rad         tax     ptratio       black  \\\n",
       "count  506.000000  506.000000  506.000000  506.000000  506.000000  506.000000   \n",
       "mean    68.574901    3.795043    9.549407  408.237154   18.455534  356.674032   \n",
       "std     28.148861    2.105710    8.707259  168.537116    2.164946   91.294864   \n",
       "min      2.900000    1.129600    1.000000  187.000000   12.600000    0.320000   \n",
       "25%     45.025000    2.100175    4.000000  279.000000   17.400000  375.377500   \n",
       "50%     77.500000    3.207450    5.000000  330.000000   19.050000  391.440000   \n",
       "75%     94.075000    5.188425   24.000000  666.000000   20.200000  396.225000   \n",
       "max    100.000000   12.126500   24.000000  711.000000   22.000000  396.900000   \n",
       "\n",
       "            lstat        medv  crime_above_median  \n",
       "count  506.000000  506.000000          506.000000  \n",
       "mean    12.653063   22.532806            0.500000  \n",
       "std      7.141062    9.197104            0.500495  \n",
       "min      1.730000    5.000000            0.000000  \n",
       "25%      6.950000   17.025000            0.000000  \n",
       "50%     11.360000   21.200000            0.500000  \n",
       "75%     16.955000   25.000000            1.000000  \n",
       "max     37.970000   50.000000            1.000000  "
      ]
     },
     "execution_count": 9,
     "metadata": {},
     "output_type": "execute_result"
    }
   ],
   "source": [
    "boston.describe(include='all')"
   ]
  },
  {
   "cell_type": "code",
   "execution_count": 10,
   "metadata": {
    "scrolled": false
   },
   "outputs": [
    {
     "data": {
      "text/html": [
       "<div>\n",
       "<style>\n",
       "    .dataframe thead tr:only-child th {\n",
       "        text-align: right;\n",
       "    }\n",
       "\n",
       "    .dataframe thead th {\n",
       "        text-align: left;\n",
       "    }\n",
       "\n",
       "    .dataframe tbody tr th {\n",
       "        vertical-align: top;\n",
       "    }\n",
       "</style>\n",
       "<table border=\"1\" class=\"dataframe\">\n",
       "  <thead>\n",
       "    <tr style=\"text-align: right;\">\n",
       "      <th></th>\n",
       "      <th>crim</th>\n",
       "      <th>zn</th>\n",
       "      <th>indus</th>\n",
       "      <th>chas</th>\n",
       "      <th>nox</th>\n",
       "      <th>rm</th>\n",
       "      <th>age</th>\n",
       "      <th>dis</th>\n",
       "      <th>rad</th>\n",
       "      <th>tax</th>\n",
       "      <th>ptratio</th>\n",
       "      <th>black</th>\n",
       "      <th>lstat</th>\n",
       "      <th>medv</th>\n",
       "      <th>crime_above_median</th>\n",
       "    </tr>\n",
       "  </thead>\n",
       "  <tbody>\n",
       "    <tr>\n",
       "      <th>crim</th>\n",
       "      <td>1.000000</td>\n",
       "      <td>-0.200469</td>\n",
       "      <td>0.406583</td>\n",
       "      <td>-0.055892</td>\n",
       "      <td>0.420972</td>\n",
       "      <td>-0.219247</td>\n",
       "      <td>0.352734</td>\n",
       "      <td>-0.379670</td>\n",
       "      <td>0.625505</td>\n",
       "      <td>0.582764</td>\n",
       "      <td>0.289946</td>\n",
       "      <td>-0.385064</td>\n",
       "      <td>0.455621</td>\n",
       "      <td>-0.388305</td>\n",
       "      <td>0.409395</td>\n",
       "    </tr>\n",
       "    <tr>\n",
       "      <th>zn</th>\n",
       "      <td>-0.200469</td>\n",
       "      <td>1.000000</td>\n",
       "      <td>-0.533828</td>\n",
       "      <td>-0.042697</td>\n",
       "      <td>-0.516604</td>\n",
       "      <td>0.311991</td>\n",
       "      <td>-0.569537</td>\n",
       "      <td>0.664408</td>\n",
       "      <td>-0.311948</td>\n",
       "      <td>-0.314563</td>\n",
       "      <td>-0.391679</td>\n",
       "      <td>0.175520</td>\n",
       "      <td>-0.412995</td>\n",
       "      <td>0.360445</td>\n",
       "      <td>-0.436151</td>\n",
       "    </tr>\n",
       "    <tr>\n",
       "      <th>indus</th>\n",
       "      <td>0.406583</td>\n",
       "      <td>-0.533828</td>\n",
       "      <td>1.000000</td>\n",
       "      <td>0.062938</td>\n",
       "      <td>0.763651</td>\n",
       "      <td>-0.391676</td>\n",
       "      <td>0.644779</td>\n",
       "      <td>-0.708027</td>\n",
       "      <td>0.595129</td>\n",
       "      <td>0.720760</td>\n",
       "      <td>0.383248</td>\n",
       "      <td>-0.356977</td>\n",
       "      <td>0.603800</td>\n",
       "      <td>-0.483725</td>\n",
       "      <td>0.603260</td>\n",
       "    </tr>\n",
       "    <tr>\n",
       "      <th>chas</th>\n",
       "      <td>-0.055892</td>\n",
       "      <td>-0.042697</td>\n",
       "      <td>0.062938</td>\n",
       "      <td>1.000000</td>\n",
       "      <td>0.091203</td>\n",
       "      <td>0.091251</td>\n",
       "      <td>0.086518</td>\n",
       "      <td>-0.099176</td>\n",
       "      <td>-0.007368</td>\n",
       "      <td>-0.035587</td>\n",
       "      <td>-0.121515</td>\n",
       "      <td>0.048788</td>\n",
       "      <td>-0.053929</td>\n",
       "      <td>0.175260</td>\n",
       "      <td>0.070097</td>\n",
       "    </tr>\n",
       "    <tr>\n",
       "      <th>nox</th>\n",
       "      <td>0.420972</td>\n",
       "      <td>-0.516604</td>\n",
       "      <td>0.763651</td>\n",
       "      <td>0.091203</td>\n",
       "      <td>1.000000</td>\n",
       "      <td>-0.302188</td>\n",
       "      <td>0.731470</td>\n",
       "      <td>-0.769230</td>\n",
       "      <td>0.611441</td>\n",
       "      <td>0.668023</td>\n",
       "      <td>0.188933</td>\n",
       "      <td>-0.380051</td>\n",
       "      <td>0.590879</td>\n",
       "      <td>-0.427321</td>\n",
       "      <td>0.723235</td>\n",
       "    </tr>\n",
       "    <tr>\n",
       "      <th>rm</th>\n",
       "      <td>-0.219247</td>\n",
       "      <td>0.311991</td>\n",
       "      <td>-0.391676</td>\n",
       "      <td>0.091251</td>\n",
       "      <td>-0.302188</td>\n",
       "      <td>1.000000</td>\n",
       "      <td>-0.240265</td>\n",
       "      <td>0.205246</td>\n",
       "      <td>-0.209847</td>\n",
       "      <td>-0.292048</td>\n",
       "      <td>-0.355501</td>\n",
       "      <td>0.128069</td>\n",
       "      <td>-0.613808</td>\n",
       "      <td>0.695360</td>\n",
       "      <td>-0.156372</td>\n",
       "    </tr>\n",
       "    <tr>\n",
       "      <th>age</th>\n",
       "      <td>0.352734</td>\n",
       "      <td>-0.569537</td>\n",
       "      <td>0.644779</td>\n",
       "      <td>0.086518</td>\n",
       "      <td>0.731470</td>\n",
       "      <td>-0.240265</td>\n",
       "      <td>1.000000</td>\n",
       "      <td>-0.747881</td>\n",
       "      <td>0.456022</td>\n",
       "      <td>0.506456</td>\n",
       "      <td>0.261515</td>\n",
       "      <td>-0.273534</td>\n",
       "      <td>0.602339</td>\n",
       "      <td>-0.376955</td>\n",
       "      <td>0.613940</td>\n",
       "    </tr>\n",
       "    <tr>\n",
       "      <th>dis</th>\n",
       "      <td>-0.379670</td>\n",
       "      <td>0.664408</td>\n",
       "      <td>-0.708027</td>\n",
       "      <td>-0.099176</td>\n",
       "      <td>-0.769230</td>\n",
       "      <td>0.205246</td>\n",
       "      <td>-0.747881</td>\n",
       "      <td>1.000000</td>\n",
       "      <td>-0.494588</td>\n",
       "      <td>-0.534432</td>\n",
       "      <td>-0.232471</td>\n",
       "      <td>0.291512</td>\n",
       "      <td>-0.496996</td>\n",
       "      <td>0.249929</td>\n",
       "      <td>-0.616342</td>\n",
       "    </tr>\n",
       "    <tr>\n",
       "      <th>rad</th>\n",
       "      <td>0.625505</td>\n",
       "      <td>-0.311948</td>\n",
       "      <td>0.595129</td>\n",
       "      <td>-0.007368</td>\n",
       "      <td>0.611441</td>\n",
       "      <td>-0.209847</td>\n",
       "      <td>0.456022</td>\n",
       "      <td>-0.494588</td>\n",
       "      <td>1.000000</td>\n",
       "      <td>0.910228</td>\n",
       "      <td>0.464741</td>\n",
       "      <td>-0.444413</td>\n",
       "      <td>0.488676</td>\n",
       "      <td>-0.381626</td>\n",
       "      <td>0.619786</td>\n",
       "    </tr>\n",
       "    <tr>\n",
       "      <th>tax</th>\n",
       "      <td>0.582764</td>\n",
       "      <td>-0.314563</td>\n",
       "      <td>0.720760</td>\n",
       "      <td>-0.035587</td>\n",
       "      <td>0.668023</td>\n",
       "      <td>-0.292048</td>\n",
       "      <td>0.506456</td>\n",
       "      <td>-0.534432</td>\n",
       "      <td>0.910228</td>\n",
       "      <td>1.000000</td>\n",
       "      <td>0.460853</td>\n",
       "      <td>-0.441808</td>\n",
       "      <td>0.543993</td>\n",
       "      <td>-0.468536</td>\n",
       "      <td>0.608741</td>\n",
       "    </tr>\n",
       "    <tr>\n",
       "      <th>ptratio</th>\n",
       "      <td>0.289946</td>\n",
       "      <td>-0.391679</td>\n",
       "      <td>0.383248</td>\n",
       "      <td>-0.121515</td>\n",
       "      <td>0.188933</td>\n",
       "      <td>-0.355501</td>\n",
       "      <td>0.261515</td>\n",
       "      <td>-0.232471</td>\n",
       "      <td>0.464741</td>\n",
       "      <td>0.460853</td>\n",
       "      <td>1.000000</td>\n",
       "      <td>-0.177383</td>\n",
       "      <td>0.374044</td>\n",
       "      <td>-0.507787</td>\n",
       "      <td>0.253568</td>\n",
       "    </tr>\n",
       "    <tr>\n",
       "      <th>black</th>\n",
       "      <td>-0.385064</td>\n",
       "      <td>0.175520</td>\n",
       "      <td>-0.356977</td>\n",
       "      <td>0.048788</td>\n",
       "      <td>-0.380051</td>\n",
       "      <td>0.128069</td>\n",
       "      <td>-0.273534</td>\n",
       "      <td>0.291512</td>\n",
       "      <td>-0.444413</td>\n",
       "      <td>-0.441808</td>\n",
       "      <td>-0.177383</td>\n",
       "      <td>1.000000</td>\n",
       "      <td>-0.366087</td>\n",
       "      <td>0.333461</td>\n",
       "      <td>-0.351211</td>\n",
       "    </tr>\n",
       "    <tr>\n",
       "      <th>lstat</th>\n",
       "      <td>0.455621</td>\n",
       "      <td>-0.412995</td>\n",
       "      <td>0.603800</td>\n",
       "      <td>-0.053929</td>\n",
       "      <td>0.590879</td>\n",
       "      <td>-0.613808</td>\n",
       "      <td>0.602339</td>\n",
       "      <td>-0.496996</td>\n",
       "      <td>0.488676</td>\n",
       "      <td>0.543993</td>\n",
       "      <td>0.374044</td>\n",
       "      <td>-0.366087</td>\n",
       "      <td>1.000000</td>\n",
       "      <td>-0.737663</td>\n",
       "      <td>0.453263</td>\n",
       "    </tr>\n",
       "    <tr>\n",
       "      <th>medv</th>\n",
       "      <td>-0.388305</td>\n",
       "      <td>0.360445</td>\n",
       "      <td>-0.483725</td>\n",
       "      <td>0.175260</td>\n",
       "      <td>-0.427321</td>\n",
       "      <td>0.695360</td>\n",
       "      <td>-0.376955</td>\n",
       "      <td>0.249929</td>\n",
       "      <td>-0.381626</td>\n",
       "      <td>-0.468536</td>\n",
       "      <td>-0.507787</td>\n",
       "      <td>0.333461</td>\n",
       "      <td>-0.737663</td>\n",
       "      <td>1.000000</td>\n",
       "      <td>-0.263017</td>\n",
       "    </tr>\n",
       "    <tr>\n",
       "      <th>crime_above_median</th>\n",
       "      <td>0.409395</td>\n",
       "      <td>-0.436151</td>\n",
       "      <td>0.603260</td>\n",
       "      <td>0.070097</td>\n",
       "      <td>0.723235</td>\n",
       "      <td>-0.156372</td>\n",
       "      <td>0.613940</td>\n",
       "      <td>-0.616342</td>\n",
       "      <td>0.619786</td>\n",
       "      <td>0.608741</td>\n",
       "      <td>0.253568</td>\n",
       "      <td>-0.351211</td>\n",
       "      <td>0.453263</td>\n",
       "      <td>-0.263017</td>\n",
       "      <td>1.000000</td>\n",
       "    </tr>\n",
       "  </tbody>\n",
       "</table>\n",
       "</div>"
      ],
      "text/plain": [
       "                        crim        zn     indus      chas       nox  \\\n",
       "crim                1.000000 -0.200469  0.406583 -0.055892  0.420972   \n",
       "zn                 -0.200469  1.000000 -0.533828 -0.042697 -0.516604   \n",
       "indus               0.406583 -0.533828  1.000000  0.062938  0.763651   \n",
       "chas               -0.055892 -0.042697  0.062938  1.000000  0.091203   \n",
       "nox                 0.420972 -0.516604  0.763651  0.091203  1.000000   \n",
       "rm                 -0.219247  0.311991 -0.391676  0.091251 -0.302188   \n",
       "age                 0.352734 -0.569537  0.644779  0.086518  0.731470   \n",
       "dis                -0.379670  0.664408 -0.708027 -0.099176 -0.769230   \n",
       "rad                 0.625505 -0.311948  0.595129 -0.007368  0.611441   \n",
       "tax                 0.582764 -0.314563  0.720760 -0.035587  0.668023   \n",
       "ptratio             0.289946 -0.391679  0.383248 -0.121515  0.188933   \n",
       "black              -0.385064  0.175520 -0.356977  0.048788 -0.380051   \n",
       "lstat               0.455621 -0.412995  0.603800 -0.053929  0.590879   \n",
       "medv               -0.388305  0.360445 -0.483725  0.175260 -0.427321   \n",
       "crime_above_median  0.409395 -0.436151  0.603260  0.070097  0.723235   \n",
       "\n",
       "                          rm       age       dis       rad       tax  \\\n",
       "crim               -0.219247  0.352734 -0.379670  0.625505  0.582764   \n",
       "zn                  0.311991 -0.569537  0.664408 -0.311948 -0.314563   \n",
       "indus              -0.391676  0.644779 -0.708027  0.595129  0.720760   \n",
       "chas                0.091251  0.086518 -0.099176 -0.007368 -0.035587   \n",
       "nox                -0.302188  0.731470 -0.769230  0.611441  0.668023   \n",
       "rm                  1.000000 -0.240265  0.205246 -0.209847 -0.292048   \n",
       "age                -0.240265  1.000000 -0.747881  0.456022  0.506456   \n",
       "dis                 0.205246 -0.747881  1.000000 -0.494588 -0.534432   \n",
       "rad                -0.209847  0.456022 -0.494588  1.000000  0.910228   \n",
       "tax                -0.292048  0.506456 -0.534432  0.910228  1.000000   \n",
       "ptratio            -0.355501  0.261515 -0.232471  0.464741  0.460853   \n",
       "black               0.128069 -0.273534  0.291512 -0.444413 -0.441808   \n",
       "lstat              -0.613808  0.602339 -0.496996  0.488676  0.543993   \n",
       "medv                0.695360 -0.376955  0.249929 -0.381626 -0.468536   \n",
       "crime_above_median -0.156372  0.613940 -0.616342  0.619786  0.608741   \n",
       "\n",
       "                     ptratio     black     lstat      medv  crime_above_median  \n",
       "crim                0.289946 -0.385064  0.455621 -0.388305            0.409395  \n",
       "zn                 -0.391679  0.175520 -0.412995  0.360445           -0.436151  \n",
       "indus               0.383248 -0.356977  0.603800 -0.483725            0.603260  \n",
       "chas               -0.121515  0.048788 -0.053929  0.175260            0.070097  \n",
       "nox                 0.188933 -0.380051  0.590879 -0.427321            0.723235  \n",
       "rm                 -0.355501  0.128069 -0.613808  0.695360           -0.156372  \n",
       "age                 0.261515 -0.273534  0.602339 -0.376955            0.613940  \n",
       "dis                -0.232471  0.291512 -0.496996  0.249929           -0.616342  \n",
       "rad                 0.464741 -0.444413  0.488676 -0.381626            0.619786  \n",
       "tax                 0.460853 -0.441808  0.543993 -0.468536            0.608741  \n",
       "ptratio             1.000000 -0.177383  0.374044 -0.507787            0.253568  \n",
       "black              -0.177383  1.000000 -0.366087  0.333461           -0.351211  \n",
       "lstat               0.374044 -0.366087  1.000000 -0.737663            0.453263  \n",
       "medv               -0.507787  0.333461 -0.737663  1.000000           -0.263017  \n",
       "crime_above_median  0.253568 -0.351211  0.453263 -0.263017            1.000000  "
      ]
     },
     "execution_count": 10,
     "metadata": {},
     "output_type": "execute_result"
    }
   ],
   "source": [
    "boston.corr()"
   ]
  },
  {
   "cell_type": "code",
   "execution_count": 11,
   "metadata": {},
   "outputs": [
    {
     "data": {
      "text/plain": [
       "253"
      ]
     },
     "execution_count": 11,
     "metadata": {},
     "output_type": "execute_result"
    }
   ],
   "source": [
    "boston.crime_above_median.sum()"
   ]
  },
  {
   "cell_type": "code",
   "execution_count": 12,
   "metadata": {
    "collapsed": true
   },
   "outputs": [],
   "source": [
    "#crim과 correlation이 높은 순서로 rad, tax, lstat, nox, indus, medv, black, dis, age, ptratio, rm, zn, chas"
   ]
  },
  {
   "cell_type": "markdown",
   "metadata": {},
   "source": [
    "#### scikit learn의 logistic regression 모델"
   ]
  },
  {
   "cell_type": "code",
   "execution_count": 13,
   "metadata": {},
   "outputs": [
    {
     "name": "stdout",
     "output_type": "stream",
     "text": [
      "classes:  [0 1]\n",
      "intercept : [-2.78211603]\n",
      "coefficient: \n"
     ]
    },
    {
     "data": {
      "text/plain": [
       "[('rad', 0.61532358727447234),\n",
       " ('tax', -0.0050077028967008934),\n",
       " ('lstat', 0.038476886094898695),\n",
       " ('nox', 2.0886725209661416),\n",
       " ('indus', 0.058048058268352659),\n",
       " ('medv', 0.056749019560806441),\n",
       " ('black', -0.013612013813105939),\n",
       " ('dis', -0.20811443093971826),\n",
       " ('age', 0.027438014073307839),\n",
       " ('ptratio', 0.055693598529802338),\n",
       " ('rm', 0.12228827979879345),\n",
       " ('zn', -0.053704157819134832),\n",
       " ('chas', -0.21792236976150245)]"
      ]
     },
     "execution_count": 13,
     "metadata": {},
     "output_type": "execute_result"
    }
   ],
   "source": [
    "sk_logisticreg = logisticregression(solver='newton-cg')\n",
    "x=boston.loc[:,['rad','tax','lstat','nox','indus','medv','black','dis','age','ptratio','rm','zn','chas']]\n",
    "y=boston.crime_above_median\n",
    "#fit the model\n",
    "sk_logisticreg.fit(x,y)\n",
    "print('classes: ', sk_logisticreg.classes_)\n",
    "print('intercept :', sk_logisticreg.intercept_)\n",
    "print('coefficient: ')\n",
    "list(zip(x.columns, sk_logisticreg.coef_[0]) ) "
   ]
  },
  {
   "cell_type": "code",
   "execution_count": 14,
   "metadata": {},
   "outputs": [
    {
     "name": "stdout",
     "output_type": "stream",
     "text": [
      "classes:  [0 1]\n",
      "intercept : [-5.3796336]\n",
      "coefficient: \n"
     ]
    },
    {
     "data": {
      "text/plain": [
       "[('nox', 5.7246595862231127), ('rad', 0.35956262161399533)]"
      ]
     },
     "execution_count": 14,
     "metadata": {},
     "output_type": "execute_result"
    }
   ],
   "source": [
    "#coefficient가 높은 순서대로 nox, rad, chas, dis ... 이므로 해당 4개의 variables만 사용하여 모델을 다시 fit\n",
    "x_fit1=boston.loc[:,['nox','rad']]\n",
    "y=boston.crime_above_median\n",
    "#fit the model\n",
    "sk_logisticreg.fit(x_fit1,y)\n",
    "print('classes: ',sk_logisticreg.classes_)\n",
    "print('intercept :', sk_logisticreg.intercept_)\n",
    "print('coefficient: ')\n",
    "list(zip(x_fit1.columns, sk_logisticreg.coef_[0]) ) "
   ]
  },
  {
   "cell_type": "code",
   "execution_count": 15,
   "metadata": {},
   "outputs": [
    {
     "name": "stdout",
     "output_type": "stream",
     "text": [
      "crime rate가 median보다 높을것으로 추정한 숫자: 190\n",
      "crime rate의 above-median, below-median 여부의 추정치와 실제가 일치하는 수: 421\n",
      "accuracy: 0.832015810277\n"
     ]
    }
   ],
   "source": [
    "#동일한 데이터 x에 대하여 모델을 돌려 보고 정확도 확인 \n",
    "y_sk_test=sk_logisticreg.predict(x_fit1)\n",
    "\n",
    "#crime rate가 median보다 높을것으로 추정한 숫자\n",
    "print('crime rate가 median보다 높을것으로 추정한 숫자:',y_sk_test.sum())\n",
    "\n",
    "#crime rate의 above-median, below-median 여부의 추정치와 실제가 일치하는 수\n",
    "print('crime rate의 above-median, below-median 여부의 추정치와 실제가 일치하는 수:',(y==y_sk_test).sum())\n",
    "\n",
    "#accuracy\n",
    "print('accuracy:',(y==y_sk_test).mean())"
   ]
  },
  {
   "cell_type": "markdown",
   "metadata": {},
   "source": [
    "#### scikit learn logistic regression모델의 k-fold validation (5 fold로)"
   ]
  },
  {
   "cell_type": "code",
   "execution_count": 16,
   "metadata": {},
   "outputs": [
    {
     "name": "stdout",
     "output_type": "stream",
     "text": [
      "테스트셋 중 crime rate가 median보다 높을것으로 추정한 숫자: 6\n",
      "테스트셋 중 crime rate의 above-median, below-median 여부의 추정치와 실제가 일치하는 수: 71\n",
      "accuracy: 0.717171717172\n"
     ]
    }
   ],
   "source": [
    "#K-fold cross validation\n",
    "#약 500개의 observations를 5개의 fold로 나누어 validation\n",
    "\n",
    "#테스트셋이 0~99\n",
    "\n",
    "#400개의 observations로 모델을 fit한 후 나머지 100여개의 observations로 테스트\n",
    "#트레인데이터로 모델 fit\n",
    "boston_train_fold=boston[100:]\n",
    "boston_train_x=boston_train_fold.loc[:,['nox','rad']]\n",
    "boston_train_y=boston_train_fold.crime_above_median\n",
    "sk_logisticreg.fit(boston_train_x,boston_train_y)\n",
    "\n",
    "#모델을 test\n",
    "boston_test_fold=boston[:99]\n",
    "boston_test_x=boston_test_fold.loc[:,['nox','rad']]\n",
    "boston_test_y=sk_logisticreg.predict(boston_test_x)\n",
    "print('테스트셋 중 crime rate가 median보다 높을것으로 추정한 숫자:',boston_test_y.sum())\n",
    "print('테스트셋 중 crime rate의 above-median, below-median 여부의 추정치와 실제가 일치하는 수:',(boston_test_fold.crime_above_median==boston_test_y).sum())\n",
    "print('accuracy:',(boston_test_fold.crime_above_median==boston_test_y).mean())"
   ]
  },
  {
   "cell_type": "code",
   "execution_count": 17,
   "metadata": {},
   "outputs": [
    {
     "name": "stdout",
     "output_type": "stream",
     "text": [
      "테스트셋 중 crime rate가 median보다 높을것으로 추정한 숫자: 16\n",
      "테스트셋 중 crime rate의 above-median, below-median 여부의 추정치와 실제가 일치하는 수: 69\n",
      "accuracy: 0.69696969697\n"
     ]
    }
   ],
   "source": [
    "#테스트셋이 100~199\n",
    "\n",
    "#400개의 observations로 모델을 fit한 후 나머지 100여개의 observations로 테스트\n",
    "#트레인데이터로 모델 fit\n",
    "boston_train_fold=boston[:99].append(boston[200:])\n",
    "boston_train_x=boston_train_fold.loc[:,['nox','rad']]\n",
    "boston_train_y=boston_train_fold.crime_above_median\n",
    "sk_logisticreg.fit(boston_train_x,boston_train_y)\n",
    "\n",
    "#모델을 test\n",
    "boston_test_fold=boston[100:199]\n",
    "boston_test_x=boston_test_fold.loc[:,['nox','rad']]\n",
    "boston_test_y=sk_logisticreg.predict(boston_test_x)\n",
    "print('테스트셋 중 crime rate가 median보다 높을것으로 추정한 숫자:',boston_test_y.sum())\n",
    "print('테스트셋 중 crime rate의 above-median, below-median 여부의 추정치와 실제가 일치하는 수:',(boston_test_fold.crime_above_median==boston_test_y).sum())\n",
    "print('accuracy:',(boston_test_fold.crime_above_median==boston_test_y).mean())"
   ]
  },
  {
   "cell_type": "code",
   "execution_count": 18,
   "metadata": {},
   "outputs": [
    {
     "name": "stdout",
     "output_type": "stream",
     "text": [
      "테스트셋 중 crime rate가 median보다 높을것으로 추정한 숫자: 18\n",
      "테스트셋 중 crime rate의 above-median, below-median 여부의 추정치와 실제가 일치하는 수: 81\n",
      "accuracy: 0.818181818182\n"
     ]
    }
   ],
   "source": [
    "#테스트셋이 200~299\n",
    "\n",
    "#400개의 observations로 모델을 fit한 후 나머지 100여개의 observations로 테스트\n",
    "#트레인데이터로 모델 fit\n",
    "boston_train_fold=boston[:199].append(boston[300:])\n",
    "boston_train_x=boston_train_fold.loc[:,['nox','rad']]\n",
    "boston_train_y=boston_train_fold.crime_above_median\n",
    "sk_logisticreg.fit(boston_train_x,boston_train_y)\n",
    "\n",
    "#모델을 test\n",
    "boston_test_fold=boston[200:299]\n",
    "boston_test_x=boston_test_fold.loc[:,['nox','rad']]\n",
    "boston_test_y=sk_logisticreg.predict(boston_test_x)\n",
    "print('테스트셋 중 crime rate가 median보다 높을것으로 추정한 숫자:',boston_test_y.sum())\n",
    "print('테스트셋 중 crime rate의 above-median, below-median 여부의 추정치와 실제가 일치하는 수:',(boston_test_fold.crime_above_median==boston_test_y).sum())\n",
    "print('accuracy:',(boston_test_fold.crime_above_median==boston_test_y).mean())"
   ]
  },
  {
   "cell_type": "code",
   "execution_count": 19,
   "metadata": {},
   "outputs": [
    {
     "name": "stdout",
     "output_type": "stream",
     "text": [
      "테스트셋 중 crime rate가 median보다 높을것으로 추정한 숫자: 43\n",
      "테스트셋 중 crime rate의 above-median, below-median 여부의 추정치와 실제가 일치하는 수: 85\n",
      "accuracy: 0.858585858586\n"
     ]
    }
   ],
   "source": [
    "#테스트셋이 300~399\n",
    "\n",
    "#400개의 observations로 모델을 fit한 후 나머지 100여개의 observations로 테스트\n",
    "#트레인데이터로 모델 fit\n",
    "boston_train_fold=boston[:299].append(boston[400:])\n",
    "boston_train_x=boston_train_fold.loc[:,['nox','rad']]\n",
    "boston_train_y=boston_train_fold.crime_above_median\n",
    "sk_logisticreg.fit(boston_train_x,boston_train_y)\n",
    "\n",
    "#모델을 test\n",
    "boston_test_fold=boston[300:399]\n",
    "boston_test_x=boston_test_fold.loc[:,['nox','rad']]\n",
    "boston_test_y=sk_logisticreg.predict(boston_test_x)\n",
    "print('테스트셋 중 crime rate가 median보다 높을것으로 추정한 숫자:',boston_test_y.sum())\n",
    "print('테스트셋 중 crime rate의 above-median, below-median 여부의 추정치와 실제가 일치하는 수:',(boston_test_fold.crime_above_median==boston_test_y).sum())\n",
    "print('accuracy:',(boston_test_fold.crime_above_median==boston_test_y).mean())"
   ]
  },
  {
   "cell_type": "code",
   "execution_count": 20,
   "metadata": {
    "scrolled": true
   },
   "outputs": [
    {
     "name": "stdout",
     "output_type": "stream",
     "text": [
      "테스트셋 중 crime rate가 median보다 높을것으로 추정한 숫자: 96\n",
      "테스트셋 중 crime rate의 above-median, below-median 여부의 추정치와 실제가 일치하는 수: 101\n",
      "accuracy: 0.952830188679\n"
     ]
    }
   ],
   "source": [
    "#테스트셋이 400~\n",
    "\n",
    "#400개의 observations로 모델을 fit한 후 나머지 100여개의 observations로 테스트\n",
    "#트레인데이터로 모델 fit\n",
    "boston_train_fold=boston[:399]\n",
    "boston_train_x=boston_train_fold.loc[:,['nox','rad']]\n",
    "boston_train_y=boston_train_fold.crime_above_median\n",
    "sk_logisticreg.fit(boston_train_x,boston_train_y)\n",
    "\n",
    "#모델을 test\n",
    "boston_test_fold=boston[400:]\n",
    "boston_test_x=boston_test_fold.loc[:,['nox','rad']]\n",
    "boston_test_y=sk_logisticreg.predict(boston_test_x)\n",
    "print('테스트셋 중 crime rate가 median보다 높을것으로 추정한 숫자:',boston_test_y.sum())\n",
    "print('테스트셋 중 crime rate의 above-median, below-median 여부의 추정치와 실제가 일치하는 수:',(boston_test_fold.crime_above_median==boston_test_y).sum())\n",
    "print('accuracy:',(boston_test_fold.crime_above_median==boston_test_y).mean())"
   ]
  },
  {
   "cell_type": "code",
   "execution_count": 21,
   "metadata": {
    "collapsed": true
   },
   "outputs": [],
   "source": [
    "#k-fold validation 결과 0.72~0.90의 정확도를 보임"
   ]
  },
  {
   "cell_type": "markdown",
   "metadata": {},
   "source": [
    "#### statsmodel의 logistic regression 모델"
   ]
  },
  {
   "cell_type": "code",
   "execution_count": 22,
   "metadata": {},
   "outputs": [
    {
     "data": {
      "text/html": [
       "<table class=\"simpletable\">\n",
       "<caption>Generalized Linear Model Regression Results</caption>\n",
       "<tr>\n",
       "  <th>Dep. Variable:</th>  <td>crime_above_median</td> <th>  No. Observations:  </th>    <td>   506</td>    \n",
       "</tr>\n",
       "<tr>\n",
       "  <th>Model:</th>                  <td>GLM</td>        <th>  Df Residuals:      </th>    <td>   492</td>    \n",
       "</tr>\n",
       "<tr>\n",
       "  <th>Model Family:</th>        <td>Gaussian</td>      <th>  Df Model:          </th>    <td>    13</td>    \n",
       "</tr>\n",
       "<tr>\n",
       "  <th>Link Function:</th>       <td>identity</td>      <th>  Scale:             </th> <td>0.10118190769</td>\n",
       "</tr>\n",
       "<tr>\n",
       "  <th>Method:</th>                <td>IRLS</td>        <th>  Log-Likelihood:    </th>   <td> -131.30</td>   \n",
       "</tr>\n",
       "<tr>\n",
       "  <th>Date:</th>            <td>Mon, 13 Nov 2017</td>  <th>  Deviance:          </th>   <td>  49.781</td>   \n",
       "</tr>\n",
       "<tr>\n",
       "  <th>Time:</th>                <td>04:59:52</td>      <th>  Pearson chi2:      </th>    <td>  49.8</td>    \n",
       "</tr>\n",
       "<tr>\n",
       "  <th>No. Iterations:</th>          <td>2</td>         <th>                     </th>       <td> </td>      \n",
       "</tr>\n",
       "</table>\n",
       "<table class=\"simpletable\">\n",
       "<tr>\n",
       "      <td></td>         <th>coef</th>     <th>std err</th>      <th>z</th>      <th>P>|z|</th>  <th>[0.025</th>    <th>0.975]</th>  \n",
       "</tr>\n",
       "<tr>\n",
       "  <th>Intercept</th> <td>   -1.4619</td> <td>    0.357</td> <td>   -4.090</td> <td> 0.000</td> <td>   -2.162</td> <td>   -0.761</td>\n",
       "</tr>\n",
       "<tr>\n",
       "  <th>zn</th>        <td>   -0.0013</td> <td>    0.001</td> <td>   -1.437</td> <td> 0.151</td> <td>   -0.003</td> <td>    0.000</td>\n",
       "</tr>\n",
       "<tr>\n",
       "  <th>indus</th>     <td>    0.0030</td> <td>    0.004</td> <td>    0.732</td> <td> 0.464</td> <td>   -0.005</td> <td>    0.011</td>\n",
       "</tr>\n",
       "<tr>\n",
       "  <th>chas</th>      <td>   -0.0154</td> <td>    0.058</td> <td>   -0.263</td> <td> 0.792</td> <td>   -0.130</td> <td>    0.099</td>\n",
       "</tr>\n",
       "<tr>\n",
       "  <th>nox</th>       <td>    1.9908</td> <td>    0.261</td> <td>    7.639</td> <td> 0.000</td> <td>    1.480</td> <td>    2.502</td>\n",
       "</tr>\n",
       "<tr>\n",
       "  <th>rm</th>        <td>    0.0219</td> <td>    0.030</td> <td>    0.723</td> <td> 0.470</td> <td>   -0.037</td> <td>    0.081</td>\n",
       "</tr>\n",
       "<tr>\n",
       "  <th>age</th>       <td>    0.0028</td> <td>    0.001</td> <td>    3.120</td> <td> 0.002</td> <td>    0.001</td> <td>    0.004</td>\n",
       "</tr>\n",
       "<tr>\n",
       "  <th>dis</th>       <td>    0.0100</td> <td>    0.014</td> <td>    0.717</td> <td> 0.473</td> <td>   -0.017</td> <td>    0.037</td>\n",
       "</tr>\n",
       "<tr>\n",
       "  <th>rad</th>       <td>    0.0178</td> <td>    0.004</td> <td>    4.087</td> <td> 0.000</td> <td>    0.009</td> <td>    0.026</td>\n",
       "</tr>\n",
       "<tr>\n",
       "  <th>tax</th>       <td>   -0.0002</td> <td>    0.000</td> <td>   -0.828</td> <td> 0.407</td> <td>   -0.001</td> <td>    0.000</td>\n",
       "</tr>\n",
       "<tr>\n",
       "  <th>ptratio</th>   <td>    0.0123</td> <td>    0.009</td> <td>    1.332</td> <td> 0.183</td> <td>   -0.006</td> <td>    0.030</td>\n",
       "</tr>\n",
       "<tr>\n",
       "  <th>black</th>     <td>   -0.0003</td> <td>    0.000</td> <td>   -1.381</td> <td> 0.167</td> <td>   -0.001</td> <td>    0.000</td>\n",
       "</tr>\n",
       "<tr>\n",
       "  <th>lstat</th>     <td>    0.0037</td> <td>    0.004</td> <td>    0.980</td> <td> 0.327</td> <td>   -0.004</td> <td>    0.011</td>\n",
       "</tr>\n",
       "<tr>\n",
       "  <th>medv</th>      <td>    0.0092</td> <td>    0.003</td> <td>    3.093</td> <td> 0.002</td> <td>    0.003</td> <td>    0.015</td>\n",
       "</tr>\n",
       "</table>"
      ],
      "text/plain": [
       "<class 'statsmodels.iolib.summary.Summary'>\n",
       "\"\"\"\n",
       "                 Generalized Linear Model Regression Results                  \n",
       "==============================================================================\n",
       "Dep. Variable:     crime_above_median   No. Observations:                  506\n",
       "Model:                            GLM   Df Residuals:                      492\n",
       "Model Family:                Gaussian   Df Model:                           13\n",
       "Link Function:               identity   Scale:                   0.10118190769\n",
       "Method:                          IRLS   Log-Likelihood:                -131.30\n",
       "Date:                Mon, 13 Nov 2017   Deviance:                       49.781\n",
       "Time:                        04:59:52   Pearson chi2:                     49.8\n",
       "No. Iterations:                     2                                         \n",
       "==============================================================================\n",
       "                 coef    std err          z      P>|z|      [0.025      0.975]\n",
       "------------------------------------------------------------------------------\n",
       "Intercept     -1.4619      0.357     -4.090      0.000      -2.162      -0.761\n",
       "zn            -0.0013      0.001     -1.437      0.151      -0.003       0.000\n",
       "indus          0.0030      0.004      0.732      0.464      -0.005       0.011\n",
       "chas          -0.0154      0.058     -0.263      0.792      -0.130       0.099\n",
       "nox            1.9908      0.261      7.639      0.000       1.480       2.502\n",
       "rm             0.0219      0.030      0.723      0.470      -0.037       0.081\n",
       "age            0.0028      0.001      3.120      0.002       0.001       0.004\n",
       "dis            0.0100      0.014      0.717      0.473      -0.017       0.037\n",
       "rad            0.0178      0.004      4.087      0.000       0.009       0.026\n",
       "tax           -0.0002      0.000     -0.828      0.407      -0.001       0.000\n",
       "ptratio        0.0123      0.009      1.332      0.183      -0.006       0.030\n",
       "black         -0.0003      0.000     -1.381      0.167      -0.001       0.000\n",
       "lstat          0.0037      0.004      0.980      0.327      -0.004       0.011\n",
       "medv           0.0092      0.003      3.093      0.002       0.003       0.015\n",
       "==============================================================================\n",
       "\"\"\""
      ]
     },
     "execution_count": 22,
     "metadata": {},
     "output_type": "execute_result"
    }
   ],
   "source": [
    "#statsmodel의 glm 사용\n",
    "stats_logisticreg=smf.glm(formula='crime_above_median ~ zn + indus + chas + nox + rm +age + dis + rad + tax + ptratio + black + lstat + medv', data=boston).fit()\n",
    "stats_logisticreg.summary()"
   ]
  },
  {
   "cell_type": "code",
   "execution_count": 23,
   "metadata": {},
   "outputs": [
    {
     "data": {
      "text/html": [
       "<table class=\"simpletable\">\n",
       "<caption>Generalized Linear Model Regression Results</caption>\n",
       "<tr>\n",
       "  <th>Dep. Variable:</th>  <td>crime_above_median</td> <th>  No. Observations:  </th>     <td>   506</td>    \n",
       "</tr>\n",
       "<tr>\n",
       "  <th>Model:</th>                  <td>GLM</td>        <th>  Df Residuals:      </th>     <td>   503</td>    \n",
       "</tr>\n",
       "<tr>\n",
       "  <th>Model Family:</th>        <td>Gaussian</td>      <th>  Df Model:          </th>     <td>     2</td>    \n",
       "</tr>\n",
       "<tr>\n",
       "  <th>Link Function:</th>       <td>identity</td>      <th>  Scale:             </th> <td>0.107279266678</td>\n",
       "</tr>\n",
       "<tr>\n",
       "  <th>Method:</th>                <td>IRLS</td>        <th>  Log-Likelihood:    </th>    <td> -151.70</td>   \n",
       "</tr>\n",
       "<tr>\n",
       "  <th>Date:</th>            <td>Mon, 13 Nov 2017</td>  <th>  Deviance:          </th>    <td>  53.961</td>   \n",
       "</tr>\n",
       "<tr>\n",
       "  <th>Time:</th>                <td>04:59:52</td>      <th>  Pearson chi2:      </th>     <td>  54.0</td>    \n",
       "</tr>\n",
       "<tr>\n",
       "  <th>No. Iterations:</th>          <td>2</td>         <th>                     </th>        <td> </td>      \n",
       "</tr>\n",
       "</table>\n",
       "<table class=\"simpletable\">\n",
       "<tr>\n",
       "      <td></td>         <th>coef</th>     <th>std err</th>      <th>z</th>      <th>P>|z|</th>  <th>[0.025</th>    <th>0.975]</th>  \n",
       "</tr>\n",
       "<tr>\n",
       "  <th>Intercept</th> <td>   -0.9730</td> <td>    0.079</td> <td>  -12.341</td> <td> 0.000</td> <td>   -1.127</td> <td>   -0.818</td>\n",
       "</tr>\n",
       "<tr>\n",
       "  <th>nox</th>       <td>    2.3748</td> <td>    0.159</td> <td>   14.940</td> <td> 0.000</td> <td>    2.063</td> <td>    2.686</td>\n",
       "</tr>\n",
       "<tr>\n",
       "  <th>rad</th>       <td>    0.0163</td> <td>    0.002</td> <td>    7.706</td> <td> 0.000</td> <td>    0.012</td> <td>    0.020</td>\n",
       "</tr>\n",
       "</table>"
      ],
      "text/plain": [
       "<class 'statsmodels.iolib.summary.Summary'>\n",
       "\"\"\"\n",
       "                 Generalized Linear Model Regression Results                  \n",
       "==============================================================================\n",
       "Dep. Variable:     crime_above_median   No. Observations:                  506\n",
       "Model:                            GLM   Df Residuals:                      503\n",
       "Model Family:                Gaussian   Df Model:                            2\n",
       "Link Function:               identity   Scale:                  0.107279266678\n",
       "Method:                          IRLS   Log-Likelihood:                -151.70\n",
       "Date:                Mon, 13 Nov 2017   Deviance:                       53.961\n",
       "Time:                        04:59:52   Pearson chi2:                     54.0\n",
       "No. Iterations:                     2                                         \n",
       "==============================================================================\n",
       "                 coef    std err          z      P>|z|      [0.025      0.975]\n",
       "------------------------------------------------------------------------------\n",
       "Intercept     -0.9730      0.079    -12.341      0.000      -1.127      -0.818\n",
       "nox            2.3748      0.159     14.940      0.000       2.063       2.686\n",
       "rad            0.0163      0.002      7.706      0.000       0.012       0.020\n",
       "==============================================================================\n",
       "\"\"\""
      ]
     },
     "execution_count": 23,
     "metadata": {},
     "output_type": "execute_result"
    }
   ],
   "source": [
    "#P값이 낮은 nox, rad, age, medv 으로 다시 fit\n",
    "stats_logisticreg=smf.glm(formula='crime_above_median ~ nox + rad', data=boston).fit()\n",
    "stats_logisticreg.summary()"
   ]
  },
  {
   "cell_type": "code",
   "execution_count": 24,
   "metadata": {},
   "outputs": [
    {
     "name": "stdout",
     "output_type": "stream",
     "text": [
      "crime rate가 median보다 높을것으로 추정한 숫자: 200\n",
      "crime rate의 above-median, below-median 여부의 추정치와 실제가 일치하는 수: 431\n",
      "accuracy: 0.851778656126\n"
     ]
    }
   ],
   "source": [
    "stats_logisticreg_predict=stats_logisticreg.predict()\n",
    "stats_logisticreg_predict_yesorno=[(1 if prob>0.5 else 0) for prob in stats_logisticreg_predict]\n",
    "sum(stats_logisticreg_predict_yesorno)\n",
    "\n",
    "#crime rate가 median보다 높을것으로 추정한 숫자\n",
    "print('crime rate가 median보다 높을것으로 추정한 숫자:',sum(stats_logisticreg_predict_yesorno))\n",
    "\n",
    "#crime rate의 above-median, below-median 여부의 추정치와 실제가 일치하는 수\n",
    "print('crime rate의 above-median, below-median 여부의 추정치와 실제가 일치하는 수:',sum(y==stats_logisticreg_predict_yesorno))\n",
    "\n",
    "#accuracy\n",
    "print('accuracy:',sum(y==stats_logisticreg_predict_yesorno)/len(y))"
   ]
  },
  {
   "cell_type": "markdown",
   "metadata": {},
   "source": [
    "#### statsmodel logistic regression모델의 k-fold validation (5 fold로)"
   ]
  },
  {
   "cell_type": "code",
   "execution_count": 25,
   "metadata": {},
   "outputs": [
    {
     "name": "stdout",
     "output_type": "stream",
     "text": [
      "crime rate가 median보다 높을것으로 추정한 숫자: 0\n",
      "crime rate의 above-median, below-median 여부의 추정치와 실제가 일치하는 수: 77\n",
      "accuracy: 0.777777777778\n"
     ]
    }
   ],
   "source": [
    "#K-fold cross validation\n",
    "#약 500개의 observations를 5개의 fold로 나누어 validation\n",
    "\n",
    "#테스트셋이 0~99\n",
    "#400개의 observations로 모델을 fit한 후 나머지 100여개의 observations로 테스트\n",
    "#트레인데이터로 모델 fit\n",
    "boston_train_fold=boston[100:]\n",
    "boston_train_x=boston_train_fold.loc[:,['nox','rad']]\n",
    "boston_train_y=boston_train_fold.crime_above_median\n",
    "stats_logisticreg=smf.glm(formula='crime_above_median ~ nox + rad', data=boston_train_fold).fit()\n",
    "\n",
    "boston_test_fold=boston[:99]\n",
    "boston_test_x=boston_test_fold.loc[:,['nox','rad']]\n",
    "boston_test_y=stats_logisticreg.predict(boston_test_x)\n",
    "stats_logisticreg_predict_yesorno=[(1 if prob>0.5 else 0) for prob in boston_test_y]\n",
    "\n",
    "print('crime rate가 median보다 높을것으로 추정한 숫자:',sum(stats_logisticreg_predict_yesorno))\n",
    "print('crime rate의 above-median, below-median 여부의 추정치와 실제가 일치하는 수:',sum(boston_test_fold.crime_above_median==stats_logisticreg_predict_yesorno))\n",
    "print('accuracy:',sum(boston_test_fold.crime_above_median==stats_logisticreg_predict_yesorno)/len(boston_test_fold.crime_above_median))"
   ]
  },
  {
   "cell_type": "code",
   "execution_count": 26,
   "metadata": {
    "scrolled": true
   },
   "outputs": [
    {
     "name": "stdout",
     "output_type": "stream",
     "text": [
      "crime rate가 median보다 높을것으로 추정한 숫자: 45\n",
      "crime rate의 above-median, below-median 여부의 추정치와 실제가 일치하는 수: 96\n",
      "accuracy: 0.969696969697\n"
     ]
    }
   ],
   "source": [
    "#테스트셋이 100~199\n",
    "\n",
    "#400개의 observations로 모델을 fit한 후 나머지 100여개의 observations로 테스트\n",
    "#트레인데이터로 모델 fit\n",
    "boston_train_fold=boston[:99].append(boston[200:])\n",
    "boston_train_x=boston_train_fold.loc[:,['nox','rad']]\n",
    "boston_train_y=boston_train_fold.crime_above_median\n",
    "stats_logisticreg=smf.glm(formula='crime_above_median ~ nox + rad', data=boston_train_fold).fit()\n",
    "\n",
    "#모델을 test\n",
    "boston_test_fold=boston[100:199]\n",
    "boston_test_x=boston_test_fold.loc[:,['nox','rad']]\n",
    "boston_test_y=stats_logisticreg.predict(boston_test_x)\n",
    "stats_logisticreg_predict_yesorno=[(1 if prob>0.5 else 0) for prob in boston_test_y]\n",
    "\n",
    "print('crime rate가 median보다 높을것으로 추정한 숫자:',sum(stats_logisticreg_predict_yesorno))\n",
    "print('crime rate의 above-median, below-median 여부의 추정치와 실제가 일치하는 수:',sum(boston_test_fold.crime_above_median==stats_logisticreg_predict_yesorno))\n",
    "print('accuracy:',sum(boston_test_fold.crime_above_median==stats_logisticreg_predict_yesorno)/len(boston_test_fold.crime_above_median))"
   ]
  },
  {
   "cell_type": "code",
   "execution_count": 27,
   "metadata": {},
   "outputs": [
    {
     "name": "stdout",
     "output_type": "stream",
     "text": [
      "crime rate가 median보다 높을것으로 추정한 숫자: 10\n",
      "crime rate의 above-median, below-median 여부의 추정치와 실제가 일치하는 수: 73\n",
      "accuracy: 0.737373737374\n"
     ]
    }
   ],
   "source": [
    "#테스트셋이 200~299\n",
    "\n",
    "#400개의 observations로 모델을 fit한 후 나머지 100여개의 observations로 테스트\n",
    "#트레인데이터로 모델 fit\n",
    "boston_train_fold=boston[:199].append(boston[300:])\n",
    "boston_train_x=boston_train_fold.loc[:,['nox','rad']]\n",
    "boston_train_y=boston_train_fold.crime_above_median\n",
    "stats_logisticreg=smf.glm(formula='crime_above_median ~ nox + rad', data=boston_train_fold).fit()\n",
    "\n",
    "#모델을 test\n",
    "boston_test_fold=boston[200:299]\n",
    "boston_test_x=boston_test_fold.loc[:,['nox','rad']]\n",
    "boston_test_y=stats_logisticreg.predict(boston_test_x)\n",
    "stats_logisticreg_predict_yesorno=[(1 if prob>0.5 else 0) for prob in boston_test_y]\n",
    "\n",
    "print('crime rate가 median보다 높을것으로 추정한 숫자:',sum(stats_logisticreg_predict_yesorno))\n",
    "print('crime rate의 above-median, below-median 여부의 추정치와 실제가 일치하는 수:',sum(boston_test_fold.crime_above_median==stats_logisticreg_predict_yesorno))\n",
    "print('accuracy:',sum(boston_test_fold.crime_above_median==stats_logisticreg_predict_yesorno)/len(boston_test_fold.crime_above_median))"
   ]
  },
  {
   "cell_type": "code",
   "execution_count": 28,
   "metadata": {},
   "outputs": [
    {
     "name": "stdout",
     "output_type": "stream",
     "text": [
      "crime rate가 median보다 높을것으로 추정한 숫자: 43\n",
      "crime rate의 above-median, below-median 여부의 추정치와 실제가 일치하는 수: 85\n",
      "accuracy: 0.858585858586\n"
     ]
    }
   ],
   "source": [
    "#테스트셋이 300~399\n",
    "\n",
    "#400개의 observations로 모델을 fit한 후 나머지 100여개의 observations로 테스트\n",
    "#트레인데이터로 모델 fit\n",
    "boston_train_fold=boston[:299].append(boston[400:])\n",
    "boston_train_x=boston_train_fold.loc[:,['nox','rad']]\n",
    "boston_train_y=boston_train_fold.crime_above_median\n",
    "stats_logisticreg=smf.glm(formula='crime_above_median ~ nox + rad', data=boston_train_fold).fit()\n",
    "\n",
    "\n",
    "#모델을 test\n",
    "boston_test_fold=boston[300:399]\n",
    "boston_test_x=boston_test_fold.loc[:,['nox','rad']]\n",
    "boston_test_y=stats_logisticreg.predict(boston_test_x)\n",
    "stats_logisticreg_predict_yesorno=[(1 if prob>0.5 else 0) for prob in boston_test_y]\n",
    "\n",
    "print('crime rate가 median보다 높을것으로 추정한 숫자:',sum(stats_logisticreg_predict_yesorno))\n",
    "print('crime rate의 above-median, below-median 여부의 추정치와 실제가 일치하는 수:',sum(boston_test_fold.crime_above_median==stats_logisticreg_predict_yesorno))\n",
    "print('accuracy:',sum(boston_test_fold.crime_above_median==stats_logisticreg_predict_yesorno)/len(boston_test_fold.crime_above_median))"
   ]
  },
  {
   "cell_type": "code",
   "execution_count": 29,
   "metadata": {},
   "outputs": [
    {
     "name": "stdout",
     "output_type": "stream",
     "text": [
      "crime rate가 median보다 높을것으로 추정한 숫자: 101\n",
      "crime rate의 above-median, below-median 여부의 추정치와 실제가 일치하는 수: 96\n",
      "accuracy: 0.905660377358\n"
     ]
    }
   ],
   "source": [
    "#테스트셋이 400~\n",
    "\n",
    "#400개의 observations로 모델을 fit한 후 나머지 100여개의 observations로 테스트\n",
    "#트레인데이터로 모델 fit\n",
    "boston_train_fold=boston[:399]\n",
    "boston_train_x=boston_train_fold.loc[:,['nox','rad']]\n",
    "boston_train_y=boston_train_fold.crime_above_median\n",
    "stats_logisticreg=smf.glm(formula='crime_above_median ~ nox + rad ', data=boston_train_fold).fit()\n",
    "\n",
    "\n",
    "#모델을 test\n",
    "boston_test_fold=boston[400:]\n",
    "boston_test_x=boston_test_fold.loc[:,['nox','rad']]\n",
    "boston_test_y=stats_logisticreg.predict(boston_test_x)\n",
    "stats_logisticreg_predict_yesorno=[(1 if prob>0.5 else 0) for prob in boston_test_y]\n",
    "\n",
    "print('crime rate가 median보다 높을것으로 추정한 숫자:',sum(stats_logisticreg_predict_yesorno))\n",
    "print('crime rate의 above-median, below-median 여부의 추정치와 실제가 일치하는 수:',sum(boston_test_fold.crime_above_median==stats_logisticreg_predict_yesorno))\n",
    "print('accuracy:',sum(boston_test_fold.crime_above_median==stats_logisticreg_predict_yesorno)/len(boston_test_fold.crime_above_median))"
   ]
  },
  {
   "cell_type": "code",
   "execution_count": 30,
   "metadata": {
    "collapsed": true
   },
   "outputs": [],
   "source": [
    "#k-fold validation 결과 0.73~0.89의 정확도를 보임"
   ]
  },
  {
   "cell_type": "markdown",
   "metadata": {},
   "source": [
    "#### KNN을 이용한 classification model"
   ]
  },
  {
   "cell_type": "code",
   "execution_count": 31,
   "metadata": {
    "collapsed": true
   },
   "outputs": [],
   "source": [
    "#KNN and evaluation package import\n",
    "#from sklearn.neighbors import KNeighborsRegressor as knnreg\n",
    "from sklearn.neighbors import KNeighborsClassifier as knncls\n",
    "from sklearn import metrics"
   ]
  },
  {
   "cell_type": "code",
   "execution_count": 32,
   "metadata": {
    "collapsed": true
   },
   "outputs": [],
   "source": [
    "x=boston.loc[:,['rad','tax','lstat','nox','indus','medv','black','dis','age','ptratio','rm','zn','chas']]\n",
    "y=boston.crime_above_median\n",
    "\n",
    "x_train=x[100:]\n",
    "y_train=y[100:]\n",
    "x_test=x[:100]\n",
    "y_test=y[:100]"
   ]
  },
  {
   "cell_type": "code",
   "execution_count": 33,
   "metadata": {},
   "outputs": [
    {
     "name": "stdout",
     "output_type": "stream",
     "text": [
      "test set error rate: 0.19\n",
      "[[59 19]\n",
      " [ 0 22]]\n",
      "Accuracy:  0.81\n",
      "Sensitivity:  1.0\n",
      "Precision:  0.536585365854\n",
      "False Positive Rate:  0.24358974359\n"
     ]
    }
   ],
   "source": [
    "#KNN K=1\n",
    "knn=knncls(n_neighbors=1)\n",
    "knn.fit(x_train,y_train)\n",
    "y_hat=knn.predict(x_test)\n",
    "print (\"test set error rate:\",(y_test!=y_hat).mean())\n",
    "conf_mat = metrics.confusion_matrix(y_test, y_hat)   # argument 순이 (True, Predicted)  \n",
    "print(conf_mat)\n",
    "TP = conf_mat[1,1]\n",
    "TN = conf_mat[0,0]\n",
    "FP = conf_mat[0,1]\n",
    "FN = conf_mat[1,0]\n",
    "print(\"Accuracy: \", (TP+TN) / (TP+TN+FP+FN) )\n",
    "print(\"Sensitivity: \",  TP / (FN + TP) )\n",
    "print(\"Precision: \",  TP / (FP + TP) )\n",
    "print(\"False Positive Rate: \",  FP / (FP + TN) )"
   ]
  },
  {
   "cell_type": "code",
   "execution_count": 34,
   "metadata": {},
   "outputs": [
    {
     "name": "stdout",
     "output_type": "stream",
     "text": [
      "test set error rate: 0.09\n",
      "[[70  8]\n",
      " [ 1 21]]\n",
      "Accuracy:  0.91\n",
      "Sensitivity:  0.954545454545\n",
      "Precision:  0.724137931034\n",
      "False Positive Rate:  0.102564102564\n"
     ]
    }
   ],
   "source": [
    "#KNN K=5\n",
    "knn=knncls(n_neighbors=5)\n",
    "knn.fit(x_train,y_train)\n",
    "y_hat=knn.predict(x_test)\n",
    "print (\"test set error rate:\",(y_test!=y_hat).mean())\n",
    "conf_mat = metrics.confusion_matrix(y_test, y_hat)   # argument 순이 (True, Predicted)  \n",
    "print(conf_mat)\n",
    "TP = conf_mat[1,1]\n",
    "TN = conf_mat[0,0]\n",
    "FP = conf_mat[0,1]\n",
    "FN = conf_mat[1,0]\n",
    "print(\"Accuracy: \", (TP+TN) / (TP+TN+FP+FN) )\n",
    "print(\"Sensitivity: \",  TP / (FN + TP) )\n",
    "print(\"Precision: \",  TP / (FP + TP) )\n",
    "print(\"False Positive Rate: \",  FP / (FP + TN) )"
   ]
  },
  {
   "cell_type": "code",
   "execution_count": 35,
   "metadata": {},
   "outputs": [
    {
     "name": "stdout",
     "output_type": "stream",
     "text": [
      "Test set baseline error rate = 0.78,  with the label = '1'\n"
     ]
    }
   ],
   "source": [
    "#baseline error/accuracy 계산\n",
    "\n",
    "def get_baseline_accuracy(y_train, y_test):   # returns (baseline accuracy, label) tuple  \n",
    "    majority_label = y_train.value_counts().idxmax()\n",
    "    baseline_acc = y_test.value_counts()[ majority_label ] / len(y_test)\n",
    "    return((baseline_acc, majority_label))\n",
    "\n",
    "print(\"Test set baseline error rate = %s,  with the label = \\'%s\\'\" % \n",
    "      (1 - get_baseline_accuracy(y_train, y_test)[0], get_baseline_accuracy(y_train, y_test)[1]))"
   ]
  },
  {
   "cell_type": "code",
   "execution_count": null,
   "metadata": {},
   "outputs": [
    {
     "data": {
      "text/plain": [
       "[(1, 0.53658536585365857),\n",
       " (2, 0.76923076923076927),\n",
       " (3, 0.66666666666666663),\n",
       " (4, 0.7142857142857143),\n",
       " (5, 0.72413793103448276),\n",
       " (6, 0.70370370370370372),\n",
       " (7, 0.7142857142857143),\n",
       " (8, 0.70370370370370372),\n",
       " (9, 0.72413793103448276)]"
      ]
     },
     "execution_count": 36,
     "metadata": {},
     "output_type": "execute_result"
    }
   ],
   "source": [
    "k_range = range(1, 10)\n",
    "precision_scores = []\n",
    "for k in k_range:\n",
    "    knn = knncls(n_neighbors=k)   \n",
    "    knn.fit(x_train,y_train)\n",
    "    y_predicted = knn.predict(x_test)\n",
    "    conf_mat = metrics.confusion_matrix(y_test, y_predicted)\n",
    "    TP = conf_mat[1,1]\n",
    "    TN = conf_mat[0,0]\n",
    "    FP = conf_mat[0,1]\n",
    "    FN = conf_mat[1,0]\n",
    "    precision_scores.append(TP/(FP + TP))\n",
    "    \n",
    "list(zip(k_range, precision_scores))\n"
   ]
  },
  {
   "cell_type": "code",
   "execution_count": null,
   "metadata": {
    "collapsed": true
   },
   "outputs": [],
   "source": [
    "x=boston.loc[:,['nox','rad','chas','dis']]\n",
    "y=boston.crime_above_median\n",
    "\n",
    "x_train=x[100:]\n",
    "y_train=y[100:]\n",
    "x_test=x[:100]\n",
    "y_test=y[:100]\n",
    "\n",
    "k_range = range(1, 10)\n",
    "precision_scores = []\n",
    "for k in k_range:\n",
    "    knn = knncls(n_neighbors=k)   \n",
    "    knn.fit(x_train,y_train)\n",
    "    y_hat = knn.predict(x_test)\n",
    "    conf_mat = metrics.confusion_matrix(y_test, y_hat)\n",
    "    TP = conf_mat[1,1]\n",
    "    TN = conf_mat[0,0]\n",
    "    FP = conf_mat[0,1]\n",
    "    FN = conf_mat[1,0]\n",
    "    precision_scores.append(TP/(FP + TP))\n",
    "\n",
    "list(zip(k_range, precision_scores))"
   ]
  },
  {
   "cell_type": "code",
   "execution_count": null,
   "metadata": {
    "collapsed": true
   },
   "outputs": [],
   "source": [
    "x=boston.loc[:,['nox','rad','age','medv']]\n",
    "y=boston.crime_above_median\n",
    "\n",
    "x_train=x[100:]\n",
    "y_train=y[100:]\n",
    "x_test=x[:100]\n",
    "y_test=y[:100]\n",
    "\n",
    "k_range = range(1, 10)\n",
    "precision_scores = []\n",
    "for k in k_range:\n",
    "    knn = knncls(n_neighbors=k)   \n",
    "    knn.fit(x,y)\n",
    "    y_hat = knn.predict(x)\n",
    "    conf_mat = metrics.confusion_matrix(y, y_hat)\n",
    "    TP = conf_mat[1,1]\n",
    "    TN = conf_mat[0,0]\n",
    "    FP = conf_mat[0,1]\n",
    "    FN = conf_mat[1,0]\n",
    "    precision_scores.append(TP/(FP + TP))\n",
    "\n",
    "list(zip(k_range, precision_scores))"
   ]
  },
  {
   "cell_type": "code",
   "execution_count": null,
   "metadata": {
    "collapsed": true
   },
   "outputs": [],
   "source": [
    "x=boston.loc[:,['nox','rad']]\n",
    "y=boston.crime_above_median\n",
    "\n",
    "x_train=x[100:]\n",
    "y_train=y[100:]\n",
    "x_test=x[:100]\n",
    "y_test=y[:100]\n",
    "\n",
    "k_range = range(1, 10)\n",
    "precision_scores = []\n",
    "for k in k_range:\n",
    "    knn = knncls(n_neighbors=k)   \n",
    "    knn.fit(x,y)\n",
    "    y_hat = knn.predict(x)\n",
    "    conf_mat = metrics.confusion_matrix(y, y_hat)\n",
    "    TP = conf_mat[1,1]\n",
    "    TN = conf_mat[0,0]\n",
    "    FP = conf_mat[0,1]\n",
    "    FN = conf_mat[1,0]\n",
    "    precision_scores.append(TP/(FP + TP))\n",
    "\n",
    "list(zip(k_range, precision_scores))"
   ]
  },
  {
   "cell_type": "code",
   "execution_count": null,
   "metadata": {
    "collapsed": true
   },
   "outputs": [],
   "source": [
    "#predictors를 nox, rad로 했을 때 가장 precision이 높음\n",
    "#k값이 1,2,3,9일 때 가장 precision이 높음"
   ]
  },
  {
   "cell_type": "markdown",
   "metadata": {},
   "source": [
    "#### KNN 모델의 k-fold validation\n",
    "(k값을 3로 두고 predictors를 nox, rad로 했을 경우)"
   ]
  },
  {
   "cell_type": "code",
   "execution_count": null,
   "metadata": {
    "collapsed": true
   },
   "outputs": [],
   "source": [
    "#K-fold cross validation\n",
    "#약 500개의 observations를 5개의 fold로 나누어 validation\n",
    "\n",
    "#테스트셋이 0~99\n",
    "#400개의 observations로 모델을 fit한 후 나머지 100여개의 observations로 테스트\n",
    "#트레인데이터로 모델 fit\n",
    "boston_train_fold=boston[100:]\n",
    "boston_train_x=boston_train_fold.loc[:,['nox','rad']]\n",
    "boston_train_y=boston_train_fold.crime_above_median\n",
    "knn=knncls(n_neighbors=3).fit(boston_train_x,boston_train_y)\n",
    "\n",
    "boston_test_fold=boston[:99]\n",
    "boston_test_x=boston_test_fold.loc[:,['nox','rad']]\n",
    "boston_test_y=knn.predict(boston_test_x)\n",
    "\n",
    "print (\"accuracy:\",(boston_test_fold.crime_above_median==boston_test_y).mean())"
   ]
  },
  {
   "cell_type": "code",
   "execution_count": null,
   "metadata": {
    "collapsed": true
   },
   "outputs": [],
   "source": [
    "#테스트셋이 100~199\n",
    "\n",
    "#400개의 observations로 모델을 fit한 후 나머지 100여개의 observations로 테스트\n",
    "#트레인데이터로 모델 fit\n",
    "boston_train_fold=boston[:99].append(boston[200:])\n",
    "boston_train_x=boston_train_fold.loc[:,['nox','rad']]\n",
    "boston_train_y=boston_train_fold.crime_above_median\n",
    "knn=knncls(n_neighbors=3).fit(boston_train_x,boston_train_y)\n",
    "\n",
    "#모델을 test\n",
    "boston_test_fold=boston[100:199]\n",
    "boston_test_x=boston_test_fold.loc[:,['nox','rad']]\n",
    "boston_test_y=knn.predict(boston_test_x)\n",
    "\n",
    "print (\"accuracy:\",(boston_test_fold.crime_above_median==boston_test_y).mean())"
   ]
  },
  {
   "cell_type": "code",
   "execution_count": null,
   "metadata": {
    "collapsed": true
   },
   "outputs": [],
   "source": [
    "#테스트셋이 200~299\n",
    "\n",
    "#400개의 observations로 모델을 fit한 후 나머지 100여개의 observations로 테스트\n",
    "#트레인데이터로 모델 fit\n",
    "boston_train_fold=boston[:199].append(boston[300:])\n",
    "boston_train_x=boston_train_fold.loc[:,['nox','rad']]\n",
    "boston_train_y=boston_train_fold.crime_above_median\n",
    "knn=knncls(n_neighbors=3).fit(boston_train_x,boston_train_y)\n",
    "\n",
    "#모델을 test\n",
    "boston_test_fold=boston[200:299]\n",
    "boston_test_x=boston_test_fold.loc[:,['nox','rad']]\n",
    "boston_test_y=knn.predict(boston_test_x)\n",
    "\n",
    "print (\"accuracy:\",(boston_test_fold.crime_above_median==boston_test_y).mean())"
   ]
  },
  {
   "cell_type": "code",
   "execution_count": null,
   "metadata": {
    "collapsed": true
   },
   "outputs": [],
   "source": [
    "#테스트셋이 300~399\n",
    "\n",
    "#400개의 observations로 모델을 fit한 후 나머지 100여개의 observations로 테스트\n",
    "#트레인데이터로 모델 fit\n",
    "boston_train_fold=boston[:299].append(boston[400:])\n",
    "boston_train_x=boston_train_fold.loc[:,['nox','rad']]\n",
    "boston_train_y=boston_train_fold.crime_above_median\n",
    "knn=knncls(n_neighbors=3).fit(boston_train_x,boston_train_y)\n",
    "\n",
    "\n",
    "#모델을 test\n",
    "boston_test_fold=boston[300:399]\n",
    "boston_test_x=boston_test_fold.loc[:,['nox','rad']]\n",
    "boston_test_y=knn.predict(boston_test_x)\n",
    "\n",
    "print (\"accuracy:\",(boston_test_fold.crime_above_median==boston_test_y).mean())"
   ]
  },
  {
   "cell_type": "code",
   "execution_count": null,
   "metadata": {
    "collapsed": true
   },
   "outputs": [],
   "source": [
    "#테스트셋이 400~\n",
    "\n",
    "#400개의 observations로 모델을 fit한 후 나머지 100여개의 observations로 테스트\n",
    "#트레인데이터로 모델 fit\n",
    "boston_train_fold=boston[:399]\n",
    "boston_train_x=boston_train_fold.loc[:,['nox','rad']]\n",
    "boston_train_y=boston_train_fold.crime_above_median\n",
    "knn=knncls(n_neighbors=3).fit(boston_train_x,boston_train_y)\n",
    "\n",
    "#모델을 test\n",
    "boston_test_fold=boston[400:]\n",
    "boston_test_x=boston_test_fold.loc[:,['nox','rad']]\n",
    "boston_test_y=knn.predict(boston_test_x)\n",
    "\n",
    "print (\"accuracy:\",(boston_test_fold.crime_above_median==boston_test_y).mean())"
   ]
  },
  {
   "cell_type": "code",
   "execution_count": null,
   "metadata": {
    "collapsed": true
   },
   "outputs": [],
   "source": [
    "#k-fold validation 결과 0.75~0.93의 정확도를 보임"
   ]
  }
 ],
 "metadata": {
  "kernelspec": {
   "display_name": "Python 3",
   "language": "python",
   "name": "python3"
  },
  "language_info": {
   "codemirror_mode": {
    "name": "ipython",
    "version": 3
   },
   "file_extension": ".py",
   "mimetype": "text/x-python",
   "name": "python",
   "nbconvert_exporter": "python",
   "pygments_lexer": "ipython3",
   "version": "3.6.1"
  }
 },
 "nbformat": 4,
 "nbformat_minor": 2
}
